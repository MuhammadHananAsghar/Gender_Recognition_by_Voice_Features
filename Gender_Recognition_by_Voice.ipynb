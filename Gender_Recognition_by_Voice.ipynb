{
  "nbformat": 4,
  "nbformat_minor": 0,
  "metadata": {
    "colab": {
      "name": "Gender Recognition by Voice.ipynb",
      "provenance": []
    },
    "kernelspec": {
      "name": "python3",
      "display_name": "Python 3"
    },
    "language_info": {
      "name": "python"
    },
    "accelerator": "GPU"
  },
  "cells": [
    {
      "cell_type": "markdown",
      "metadata": {
        "id": "CiGEb9e7fFTu"
      },
      "source": [
        "**Preprocessing**"
      ]
    },
    {
      "cell_type": "code",
      "metadata": {
        "id": "r8ivuddXc80C"
      },
      "source": [
        "import pandas as pd\n",
        "import numpy as np\n",
        "import matplotlib.pyplot as plt"
      ],
      "execution_count": 1,
      "outputs": []
    },
    {
      "cell_type": "code",
      "metadata": {
        "colab": {
          "base_uri": "https://localhost:8080/",
          "height": 226
        },
        "id": "_-QxGouMdWxo",
        "outputId": "c6d13c07-b53b-4d9f-a6e0-7ee91b138f1d"
      },
      "source": [
        "voice_data = pd.read_csv(\"voice.csv\")\n",
        "voice_data.head()"
      ],
      "execution_count": 2,
      "outputs": [
        {
          "output_type": "execute_result",
          "data": {
            "text/html": [
              "<div>\n",
              "<style scoped>\n",
              "    .dataframe tbody tr th:only-of-type {\n",
              "        vertical-align: middle;\n",
              "    }\n",
              "\n",
              "    .dataframe tbody tr th {\n",
              "        vertical-align: top;\n",
              "    }\n",
              "\n",
              "    .dataframe thead th {\n",
              "        text-align: right;\n",
              "    }\n",
              "</style>\n",
              "<table border=\"1\" class=\"dataframe\">\n",
              "  <thead>\n",
              "    <tr style=\"text-align: right;\">\n",
              "      <th></th>\n",
              "      <th>meanfreq</th>\n",
              "      <th>sd</th>\n",
              "      <th>median</th>\n",
              "      <th>Q25</th>\n",
              "      <th>Q75</th>\n",
              "      <th>IQR</th>\n",
              "      <th>skew</th>\n",
              "      <th>kurt</th>\n",
              "      <th>sp.ent</th>\n",
              "      <th>sfm</th>\n",
              "      <th>mode</th>\n",
              "      <th>centroid</th>\n",
              "      <th>meanfun</th>\n",
              "      <th>minfun</th>\n",
              "      <th>maxfun</th>\n",
              "      <th>meandom</th>\n",
              "      <th>mindom</th>\n",
              "      <th>maxdom</th>\n",
              "      <th>dfrange</th>\n",
              "      <th>modindx</th>\n",
              "      <th>label</th>\n",
              "    </tr>\n",
              "  </thead>\n",
              "  <tbody>\n",
              "    <tr>\n",
              "      <th>0</th>\n",
              "      <td>0.059781</td>\n",
              "      <td>0.064241</td>\n",
              "      <td>0.032027</td>\n",
              "      <td>0.015071</td>\n",
              "      <td>0.090193</td>\n",
              "      <td>0.075122</td>\n",
              "      <td>12.863462</td>\n",
              "      <td>274.402906</td>\n",
              "      <td>0.893369</td>\n",
              "      <td>0.491918</td>\n",
              "      <td>0.000000</td>\n",
              "      <td>0.059781</td>\n",
              "      <td>0.084279</td>\n",
              "      <td>0.015702</td>\n",
              "      <td>0.275862</td>\n",
              "      <td>0.007812</td>\n",
              "      <td>0.007812</td>\n",
              "      <td>0.007812</td>\n",
              "      <td>0.000000</td>\n",
              "      <td>0.000000</td>\n",
              "      <td>male</td>\n",
              "    </tr>\n",
              "    <tr>\n",
              "      <th>1</th>\n",
              "      <td>0.066009</td>\n",
              "      <td>0.067310</td>\n",
              "      <td>0.040229</td>\n",
              "      <td>0.019414</td>\n",
              "      <td>0.092666</td>\n",
              "      <td>0.073252</td>\n",
              "      <td>22.423285</td>\n",
              "      <td>634.613855</td>\n",
              "      <td>0.892193</td>\n",
              "      <td>0.513724</td>\n",
              "      <td>0.000000</td>\n",
              "      <td>0.066009</td>\n",
              "      <td>0.107937</td>\n",
              "      <td>0.015826</td>\n",
              "      <td>0.250000</td>\n",
              "      <td>0.009014</td>\n",
              "      <td>0.007812</td>\n",
              "      <td>0.054688</td>\n",
              "      <td>0.046875</td>\n",
              "      <td>0.052632</td>\n",
              "      <td>male</td>\n",
              "    </tr>\n",
              "    <tr>\n",
              "      <th>2</th>\n",
              "      <td>0.077316</td>\n",
              "      <td>0.083829</td>\n",
              "      <td>0.036718</td>\n",
              "      <td>0.008701</td>\n",
              "      <td>0.131908</td>\n",
              "      <td>0.123207</td>\n",
              "      <td>30.757155</td>\n",
              "      <td>1024.927705</td>\n",
              "      <td>0.846389</td>\n",
              "      <td>0.478905</td>\n",
              "      <td>0.000000</td>\n",
              "      <td>0.077316</td>\n",
              "      <td>0.098706</td>\n",
              "      <td>0.015656</td>\n",
              "      <td>0.271186</td>\n",
              "      <td>0.007990</td>\n",
              "      <td>0.007812</td>\n",
              "      <td>0.015625</td>\n",
              "      <td>0.007812</td>\n",
              "      <td>0.046512</td>\n",
              "      <td>male</td>\n",
              "    </tr>\n",
              "    <tr>\n",
              "      <th>3</th>\n",
              "      <td>0.151228</td>\n",
              "      <td>0.072111</td>\n",
              "      <td>0.158011</td>\n",
              "      <td>0.096582</td>\n",
              "      <td>0.207955</td>\n",
              "      <td>0.111374</td>\n",
              "      <td>1.232831</td>\n",
              "      <td>4.177296</td>\n",
              "      <td>0.963322</td>\n",
              "      <td>0.727232</td>\n",
              "      <td>0.083878</td>\n",
              "      <td>0.151228</td>\n",
              "      <td>0.088965</td>\n",
              "      <td>0.017798</td>\n",
              "      <td>0.250000</td>\n",
              "      <td>0.201497</td>\n",
              "      <td>0.007812</td>\n",
              "      <td>0.562500</td>\n",
              "      <td>0.554688</td>\n",
              "      <td>0.247119</td>\n",
              "      <td>male</td>\n",
              "    </tr>\n",
              "    <tr>\n",
              "      <th>4</th>\n",
              "      <td>0.135120</td>\n",
              "      <td>0.079146</td>\n",
              "      <td>0.124656</td>\n",
              "      <td>0.078720</td>\n",
              "      <td>0.206045</td>\n",
              "      <td>0.127325</td>\n",
              "      <td>1.101174</td>\n",
              "      <td>4.333713</td>\n",
              "      <td>0.971955</td>\n",
              "      <td>0.783568</td>\n",
              "      <td>0.104261</td>\n",
              "      <td>0.135120</td>\n",
              "      <td>0.106398</td>\n",
              "      <td>0.016931</td>\n",
              "      <td>0.266667</td>\n",
              "      <td>0.712812</td>\n",
              "      <td>0.007812</td>\n",
              "      <td>5.484375</td>\n",
              "      <td>5.476562</td>\n",
              "      <td>0.208274</td>\n",
              "      <td>male</td>\n",
              "    </tr>\n",
              "  </tbody>\n",
              "</table>\n",
              "</div>"
            ],
            "text/plain": [
              "   meanfreq        sd    median       Q25  ...    maxdom   dfrange   modindx  label\n",
              "0  0.059781  0.064241  0.032027  0.015071  ...  0.007812  0.000000  0.000000   male\n",
              "1  0.066009  0.067310  0.040229  0.019414  ...  0.054688  0.046875  0.052632   male\n",
              "2  0.077316  0.083829  0.036718  0.008701  ...  0.015625  0.007812  0.046512   male\n",
              "3  0.151228  0.072111  0.158011  0.096582  ...  0.562500  0.554688  0.247119   male\n",
              "4  0.135120  0.079146  0.124656  0.078720  ...  5.484375  5.476562  0.208274   male\n",
              "\n",
              "[5 rows x 21 columns]"
            ]
          },
          "metadata": {
            "tags": []
          },
          "execution_count": 2
        }
      ]
    },
    {
      "cell_type": "code",
      "metadata": {
        "colab": {
          "base_uri": "https://localhost:8080/"
        },
        "id": "NfQp3tyxd2V6",
        "outputId": "b52223d0-c7db-4d3e-a78a-799ce14f5c3c"
      },
      "source": [
        "voice_data['label'].value_counts()"
      ],
      "execution_count": 4,
      "outputs": [
        {
          "output_type": "execute_result",
          "data": {
            "text/plain": [
              "male      1584\n",
              "female    1584\n",
              "Name: label, dtype: int64"
            ]
          },
          "metadata": {
            "tags": []
          },
          "execution_count": 4
        }
      ]
    },
    {
      "cell_type": "code",
      "metadata": {
        "id": "OYphX5nneD9k"
      },
      "source": [
        "X = voice_data.iloc[:, : -1].values\n",
        "Y = voice_data.iloc[:, -1].values"
      ],
      "execution_count": 14,
      "outputs": []
    },
    {
      "cell_type": "code",
      "metadata": {
        "colab": {
          "base_uri": "https://localhost:8080/"
        },
        "id": "oSYCx2VEeSHF",
        "outputId": "2b66c415-6fb7-4d87-9a22-535b755c8d13"
      },
      "source": [
        "Y"
      ],
      "execution_count": 15,
      "outputs": [
        {
          "output_type": "execute_result",
          "data": {
            "text/plain": [
              "array(['male', 'male', 'male', ..., 'female', 'female', 'female'],\n",
              "      dtype=object)"
            ]
          },
          "metadata": {
            "tags": []
          },
          "execution_count": 15
        }
      ]
    },
    {
      "cell_type": "code",
      "metadata": {
        "colab": {
          "base_uri": "https://localhost:8080/"
        },
        "id": "ygUH1EpHeX61",
        "outputId": "3ece3e67-8508-4df9-d357-027ed8f8d340"
      },
      "source": [
        "X"
      ],
      "execution_count": 16,
      "outputs": [
        {
          "output_type": "execute_result",
          "data": {
            "text/plain": [
              "array([[0.05978098, 0.06424127, 0.03202691, ..., 0.0078125 , 0.        ,\n",
              "        0.        ],\n",
              "       [0.06600874, 0.06731003, 0.04022873, ..., 0.0546875 , 0.046875  ,\n",
              "        0.05263158],\n",
              "       [0.0773155 , 0.08382942, 0.03671846, ..., 0.015625  , 0.0078125 ,\n",
              "        0.04651163],\n",
              "       ...,\n",
              "       [0.14205626, 0.09579843, 0.18373124, ..., 2.9375    , 2.9296875 ,\n",
              "        0.19475862],\n",
              "       [0.14365874, 0.09062826, 0.18497617, ..., 3.59375   , 3.5859375 ,\n",
              "        0.31100218],\n",
              "       [0.16550895, 0.09288354, 0.18304392, ..., 0.5546875 , 0.546875  ,\n",
              "        0.35      ]])"
            ]
          },
          "metadata": {
            "tags": []
          },
          "execution_count": 16
        }
      ]
    },
    {
      "cell_type": "code",
      "metadata": {
        "id": "-bXSZuIDe_Fm"
      },
      "source": [
        "from tensorflow.keras.utils import to_categorical\n",
        "from sklearn.preprocessing import LabelEncoder\n",
        "\n",
        "labelencoder = LabelEncoder()\n",
        "y = to_categorical(labelencoder.fit_transform(Y))"
      ],
      "execution_count": 17,
      "outputs": []
    },
    {
      "cell_type": "code",
      "metadata": {
        "colab": {
          "base_uri": "https://localhost:8080/"
        },
        "id": "3Z7uIkecfasr",
        "outputId": "0390e135-ca4b-4ccb-f99f-25021952e0b3"
      },
      "source": [
        "y"
      ],
      "execution_count": 18,
      "outputs": [
        {
          "output_type": "execute_result",
          "data": {
            "text/plain": [
              "array([[0., 1.],\n",
              "       [0., 1.],\n",
              "       [0., 1.],\n",
              "       ...,\n",
              "       [1., 0.],\n",
              "       [1., 0.],\n",
              "       [1., 0.]], dtype=float32)"
            ]
          },
          "metadata": {
            "tags": []
          },
          "execution_count": 18
        }
      ]
    },
    {
      "cell_type": "code",
      "metadata": {
        "id": "Dt9MkhTHfbe2"
      },
      "source": [
        "from sklearn.model_selection import train_test_split\n",
        "X_train, X_test, y_train, y_test = train_test_split(X, y, test_size=0.2, random_state=0)"
      ],
      "execution_count": 19,
      "outputs": []
    },
    {
      "cell_type": "code",
      "metadata": {
        "colab": {
          "base_uri": "https://localhost:8080/"
        },
        "id": "mIkHUrf_gDfn",
        "outputId": "9f3b19ad-9be8-4f7d-ca4d-c032c70a8023"
      },
      "source": [
        "X_train.shape"
      ],
      "execution_count": 20,
      "outputs": [
        {
          "output_type": "execute_result",
          "data": {
            "text/plain": [
              "(2534, 20)"
            ]
          },
          "metadata": {
            "tags": []
          },
          "execution_count": 20
        }
      ]
    },
    {
      "cell_type": "code",
      "metadata": {
        "colab": {
          "base_uri": "https://localhost:8080/"
        },
        "id": "2il7oEQzgFJG",
        "outputId": "4d523403-b2c1-41be-97d0-4686fd99a340"
      },
      "source": [
        "X_test.shape"
      ],
      "execution_count": 21,
      "outputs": [
        {
          "output_type": "execute_result",
          "data": {
            "text/plain": [
              "(634, 20)"
            ]
          },
          "metadata": {
            "tags": []
          },
          "execution_count": 21
        }
      ]
    },
    {
      "cell_type": "code",
      "metadata": {
        "colab": {
          "base_uri": "https://localhost:8080/"
        },
        "id": "YnolIwdegGV2",
        "outputId": "24850d50-206f-4f6a-b060-d4348458f971"
      },
      "source": [
        "y_train.shape"
      ],
      "execution_count": 22,
      "outputs": [
        {
          "output_type": "execute_result",
          "data": {
            "text/plain": [
              "(2534, 2)"
            ]
          },
          "metadata": {
            "tags": []
          },
          "execution_count": 22
        }
      ]
    },
    {
      "cell_type": "code",
      "metadata": {
        "colab": {
          "base_uri": "https://localhost:8080/"
        },
        "id": "G7rDMPtRgHlW",
        "outputId": "f798bff9-c45d-4941-e2ab-de9ada847eb6"
      },
      "source": [
        "y_test.shape"
      ],
      "execution_count": 23,
      "outputs": [
        {
          "output_type": "execute_result",
          "data": {
            "text/plain": [
              "(634, 2)"
            ]
          },
          "metadata": {
            "tags": []
          },
          "execution_count": 23
        }
      ]
    },
    {
      "cell_type": "markdown",
      "metadata": {
        "id": "pt1LXYg8gQYr"
      },
      "source": [
        "**Model Design**"
      ]
    },
    {
      "cell_type": "code",
      "metadata": {
        "id": "13WLJcEzgI-G"
      },
      "source": [
        "from tensorflow.keras.models import Sequential\n",
        "from tensorflow.keras.layers import Dense, Dropout"
      ],
      "execution_count": 24,
      "outputs": []
    },
    {
      "cell_type": "code",
      "metadata": {
        "id": "170HorsehFj9"
      },
      "source": [
        "num_classes = y.shape[1]"
      ],
      "execution_count": 26,
      "outputs": []
    },
    {
      "cell_type": "code",
      "metadata": {
        "id": "-06xUCuxgfHp"
      },
      "source": [
        "model = Sequential()\n",
        "\n",
        "# First Layer\n",
        "model.add(Dense(300, activation=\"relu\", input_shape=(20,) ))\n",
        "model.add(Dropout(0.2))\n",
        "\n",
        "# Second Layer\n",
        "model.add(Dense(200, activation=\"relu\"))\n",
        "model.add(Dropout(0.2))\n",
        "\n",
        "# Third Layer\n",
        "model.add(Dense(200, activation=\"relu\"))\n",
        "model.add(Dropout(0.2))\n",
        "\n",
        "# Output Layer\n",
        "model.add(Dense(num_classes, activation=\"softmax\"))\n",
        "\n",
        "# Compiling\n",
        "model.compile(loss=\"categorical_crossentropy\", optimizer=\"adam\", metrics=[\"accuracy\"])"
      ],
      "execution_count": 30,
      "outputs": []
    },
    {
      "cell_type": "code",
      "metadata": {
        "colab": {
          "base_uri": "https://localhost:8080/"
        },
        "id": "Oy1m-t21hezH",
        "outputId": "eece0b6b-3cfc-4ef3-8ba5-d127cf43d578"
      },
      "source": [
        "model.summary()"
      ],
      "execution_count": 31,
      "outputs": [
        {
          "output_type": "stream",
          "text": [
            "Model: \"sequential_1\"\n",
            "_________________________________________________________________\n",
            "Layer (type)                 Output Shape              Param #   \n",
            "=================================================================\n",
            "dense_4 (Dense)              (None, 300)               6300      \n",
            "_________________________________________________________________\n",
            "dropout_3 (Dropout)          (None, 300)               0         \n",
            "_________________________________________________________________\n",
            "dense_5 (Dense)              (None, 200)               60200     \n",
            "_________________________________________________________________\n",
            "dropout_4 (Dropout)          (None, 200)               0         \n",
            "_________________________________________________________________\n",
            "dense_6 (Dense)              (None, 200)               40200     \n",
            "_________________________________________________________________\n",
            "dropout_5 (Dropout)          (None, 200)               0         \n",
            "_________________________________________________________________\n",
            "dense_7 (Dense)              (None, 2)                 402       \n",
            "=================================================================\n",
            "Total params: 107,102\n",
            "Trainable params: 107,102\n",
            "Non-trainable params: 0\n",
            "_________________________________________________________________\n"
          ],
          "name": "stdout"
        }
      ]
    },
    {
      "cell_type": "code",
      "metadata": {
        "id": "Y_htPkKPhgPl"
      },
      "source": [
        "from tensorflow.keras.callbacks import ModelCheckpoint\n",
        "\n",
        "num_epochs = 150\n",
        "num_batch_size = 32\n",
        "\n",
        "checkpointer = ModelCheckpoint(filepath='/content/gender_coice.hdf5',\n",
        "                               verbose=1,save_best_only=True)"
      ],
      "execution_count": 32,
      "outputs": []
    },
    {
      "cell_type": "code",
      "metadata": {
        "colab": {
          "base_uri": "https://localhost:8080/"
        },
        "id": "fNAculSKiOoG",
        "outputId": "3607e496-160c-4069-a326-d07500e801f2"
      },
      "source": [
        "history = model.fit(X_train, y_train, batch_size=num_batch_size, epochs=num_epochs, validation_data=(X_test, y_test), callbacks=[checkpointer], verbose=1)"
      ],
      "execution_count": 33,
      "outputs": [
        {
          "output_type": "stream",
          "text": [
            "Epoch 1/150\n",
            "80/80 [==============================] - 1s 6ms/step - loss: 1.1693 - accuracy: 0.5138 - val_loss: 1.0300 - val_accuracy: 0.5442\n",
            "\n",
            "Epoch 00001: val_loss improved from inf to 1.02998, saving model to /content/gender_coice.hdf5\n",
            "Epoch 2/150\n",
            "80/80 [==============================] - 0s 3ms/step - loss: 1.0189 - accuracy: 0.5773 - val_loss: 0.6494 - val_accuracy: 0.5584\n",
            "\n",
            "Epoch 00002: val_loss improved from 1.02998 to 0.64938, saving model to /content/gender_coice.hdf5\n",
            "Epoch 3/150\n",
            "80/80 [==============================] - 0s 4ms/step - loss: 0.8077 - accuracy: 0.6330 - val_loss: 0.6080 - val_accuracy: 0.6972\n",
            "\n",
            "Epoch 00003: val_loss improved from 0.64938 to 0.60800, saving model to /content/gender_coice.hdf5\n",
            "Epoch 4/150\n",
            "80/80 [==============================] - 0s 4ms/step - loss: 0.6928 - accuracy: 0.6752 - val_loss: 0.5889 - val_accuracy: 0.6909\n",
            "\n",
            "Epoch 00004: val_loss improved from 0.60800 to 0.58892, saving model to /content/gender_coice.hdf5\n",
            "Epoch 5/150\n",
            "80/80 [==============================] - 0s 4ms/step - loss: 0.7039 - accuracy: 0.6898 - val_loss: 0.6403 - val_accuracy: 0.7303\n",
            "\n",
            "Epoch 00005: val_loss did not improve from 0.58892\n",
            "Epoch 6/150\n",
            "80/80 [==============================] - 0s 4ms/step - loss: 0.6315 - accuracy: 0.7167 - val_loss: 0.5004 - val_accuracy: 0.7413\n",
            "\n",
            "Epoch 00006: val_loss improved from 0.58892 to 0.50043, saving model to /content/gender_coice.hdf5\n",
            "Epoch 7/150\n",
            "80/80 [==============================] - 0s 4ms/step - loss: 0.5949 - accuracy: 0.7273 - val_loss: 0.4800 - val_accuracy: 0.7871\n",
            "\n",
            "Epoch 00007: val_loss improved from 0.50043 to 0.47996, saving model to /content/gender_coice.hdf5\n",
            "Epoch 8/150\n",
            "80/80 [==============================] - 0s 4ms/step - loss: 0.5549 - accuracy: 0.7403 - val_loss: 0.4793 - val_accuracy: 0.7650\n",
            "\n",
            "Epoch 00008: val_loss improved from 0.47996 to 0.47931, saving model to /content/gender_coice.hdf5\n",
            "Epoch 9/150\n",
            "80/80 [==============================] - 0s 3ms/step - loss: 0.5247 - accuracy: 0.7691 - val_loss: 0.4912 - val_accuracy: 0.7618\n",
            "\n",
            "Epoch 00009: val_loss did not improve from 0.47931\n",
            "Epoch 10/150\n",
            "80/80 [==============================] - 0s 3ms/step - loss: 0.4823 - accuracy: 0.7841 - val_loss: 0.5217 - val_accuracy: 0.7681\n",
            "\n",
            "Epoch 00010: val_loss did not improve from 0.47931\n",
            "Epoch 11/150\n",
            "80/80 [==============================] - 0s 4ms/step - loss: 0.4497 - accuracy: 0.7995 - val_loss: 0.4400 - val_accuracy: 0.8344\n",
            "\n",
            "Epoch 00011: val_loss improved from 0.47931 to 0.44003, saving model to /content/gender_coice.hdf5\n",
            "Epoch 12/150\n",
            "80/80 [==============================] - 0s 4ms/step - loss: 0.4577 - accuracy: 0.8015 - val_loss: 0.3701 - val_accuracy: 0.8502\n",
            "\n",
            "Epoch 00012: val_loss improved from 0.44003 to 0.37015, saving model to /content/gender_coice.hdf5\n",
            "Epoch 13/150\n",
            "80/80 [==============================] - 0s 4ms/step - loss: 0.3933 - accuracy: 0.8252 - val_loss: 0.4154 - val_accuracy: 0.8391\n",
            "\n",
            "Epoch 00013: val_loss did not improve from 0.37015\n",
            "Epoch 14/150\n",
            "80/80 [==============================] - 0s 3ms/step - loss: 0.3939 - accuracy: 0.8374 - val_loss: 0.3311 - val_accuracy: 0.8691\n",
            "\n",
            "Epoch 00014: val_loss improved from 0.37015 to 0.33114, saving model to /content/gender_coice.hdf5\n",
            "Epoch 15/150\n",
            "80/80 [==============================] - 0s 3ms/step - loss: 0.3747 - accuracy: 0.8374 - val_loss: 0.3247 - val_accuracy: 0.8549\n",
            "\n",
            "Epoch 00015: val_loss improved from 0.33114 to 0.32473, saving model to /content/gender_coice.hdf5\n",
            "Epoch 16/150\n",
            "80/80 [==============================] - 0s 3ms/step - loss: 0.3542 - accuracy: 0.8414 - val_loss: 0.2869 - val_accuracy: 0.8912\n",
            "\n",
            "Epoch 00016: val_loss improved from 0.32473 to 0.28688, saving model to /content/gender_coice.hdf5\n",
            "Epoch 17/150\n",
            "80/80 [==============================] - 0s 4ms/step - loss: 0.3121 - accuracy: 0.8674 - val_loss: 0.2636 - val_accuracy: 0.8912\n",
            "\n",
            "Epoch 00017: val_loss improved from 0.28688 to 0.26362, saving model to /content/gender_coice.hdf5\n",
            "Epoch 18/150\n",
            "80/80 [==============================] - 0s 3ms/step - loss: 0.3036 - accuracy: 0.8757 - val_loss: 0.2845 - val_accuracy: 0.8691\n",
            "\n",
            "Epoch 00018: val_loss did not improve from 0.26362\n",
            "Epoch 19/150\n",
            "80/80 [==============================] - 0s 3ms/step - loss: 0.3167 - accuracy: 0.8650 - val_loss: 0.2788 - val_accuracy: 0.8864\n",
            "\n",
            "Epoch 00019: val_loss did not improve from 0.26362\n",
            "Epoch 20/150\n",
            "80/80 [==============================] - 0s 3ms/step - loss: 0.2762 - accuracy: 0.8923 - val_loss: 0.2811 - val_accuracy: 0.8785\n",
            "\n",
            "Epoch 00020: val_loss did not improve from 0.26362\n",
            "Epoch 21/150\n",
            "80/80 [==============================] - 0s 4ms/step - loss: 0.2539 - accuracy: 0.8954 - val_loss: 0.2115 - val_accuracy: 0.9085\n",
            "\n",
            "Epoch 00021: val_loss improved from 0.26362 to 0.21152, saving model to /content/gender_coice.hdf5\n",
            "Epoch 22/150\n",
            "80/80 [==============================] - 0s 3ms/step - loss: 0.2525 - accuracy: 0.9057 - val_loss: 0.2010 - val_accuracy: 0.9148\n",
            "\n",
            "Epoch 00022: val_loss improved from 0.21152 to 0.20098, saving model to /content/gender_coice.hdf5\n",
            "Epoch 23/150\n",
            "80/80 [==============================] - 0s 3ms/step - loss: 0.2408 - accuracy: 0.8962 - val_loss: 0.2070 - val_accuracy: 0.9211\n",
            "\n",
            "Epoch 00023: val_loss did not improve from 0.20098\n",
            "Epoch 24/150\n",
            "80/80 [==============================] - 0s 3ms/step - loss: 0.2283 - accuracy: 0.9057 - val_loss: 0.1818 - val_accuracy: 0.9290\n",
            "\n",
            "Epoch 00024: val_loss improved from 0.20098 to 0.18182, saving model to /content/gender_coice.hdf5\n",
            "Epoch 25/150\n",
            "80/80 [==============================] - 0s 3ms/step - loss: 0.2200 - accuracy: 0.9175 - val_loss: 0.1655 - val_accuracy: 0.9338\n",
            "\n",
            "Epoch 00025: val_loss improved from 0.18182 to 0.16546, saving model to /content/gender_coice.hdf5\n",
            "Epoch 26/150\n",
            "80/80 [==============================] - 0s 3ms/step - loss: 0.2102 - accuracy: 0.9148 - val_loss: 0.2048 - val_accuracy: 0.9180\n",
            "\n",
            "Epoch 00026: val_loss did not improve from 0.16546\n",
            "Epoch 27/150\n",
            "80/80 [==============================] - 0s 3ms/step - loss: 0.2020 - accuracy: 0.9159 - val_loss: 0.1640 - val_accuracy: 0.9401\n",
            "\n",
            "Epoch 00027: val_loss improved from 0.16546 to 0.16403, saving model to /content/gender_coice.hdf5\n",
            "Epoch 28/150\n",
            "80/80 [==============================] - 0s 4ms/step - loss: 0.1965 - accuracy: 0.9258 - val_loss: 0.1563 - val_accuracy: 0.9401\n",
            "\n",
            "Epoch 00028: val_loss improved from 0.16403 to 0.15630, saving model to /content/gender_coice.hdf5\n",
            "Epoch 29/150\n",
            "80/80 [==============================] - 0s 3ms/step - loss: 0.1921 - accuracy: 0.9242 - val_loss: 0.1464 - val_accuracy: 0.9369\n",
            "\n",
            "Epoch 00029: val_loss improved from 0.15630 to 0.14640, saving model to /content/gender_coice.hdf5\n",
            "Epoch 30/150\n",
            "80/80 [==============================] - 0s 3ms/step - loss: 0.1890 - accuracy: 0.9246 - val_loss: 0.1795 - val_accuracy: 0.9322\n",
            "\n",
            "Epoch 00030: val_loss did not improve from 0.14640\n",
            "Epoch 31/150\n",
            "80/80 [==============================] - 0s 4ms/step - loss: 0.1972 - accuracy: 0.9238 - val_loss: 0.1377 - val_accuracy: 0.9479\n",
            "\n",
            "Epoch 00031: val_loss improved from 0.14640 to 0.13772, saving model to /content/gender_coice.hdf5\n",
            "Epoch 32/150\n",
            "80/80 [==============================] - 0s 3ms/step - loss: 0.1823 - accuracy: 0.9258 - val_loss: 0.1673 - val_accuracy: 0.9306\n",
            "\n",
            "Epoch 00032: val_loss did not improve from 0.13772\n",
            "Epoch 33/150\n",
            "80/80 [==============================] - 0s 3ms/step - loss: 0.1777 - accuracy: 0.9341 - val_loss: 0.1659 - val_accuracy: 0.9385\n",
            "\n",
            "Epoch 00033: val_loss did not improve from 0.13772\n",
            "Epoch 34/150\n",
            "80/80 [==============================] - 0s 3ms/step - loss: 0.1699 - accuracy: 0.9321 - val_loss: 0.1666 - val_accuracy: 0.9416\n",
            "\n",
            "Epoch 00034: val_loss did not improve from 0.13772\n",
            "Epoch 35/150\n",
            "80/80 [==============================] - 0s 4ms/step - loss: 0.1661 - accuracy: 0.9365 - val_loss: 0.1349 - val_accuracy: 0.9527\n",
            "\n",
            "Epoch 00035: val_loss improved from 0.13772 to 0.13485, saving model to /content/gender_coice.hdf5\n",
            "Epoch 36/150\n",
            "80/80 [==============================] - 0s 3ms/step - loss: 0.1794 - accuracy: 0.9298 - val_loss: 0.1710 - val_accuracy: 0.9385\n",
            "\n",
            "Epoch 00036: val_loss did not improve from 0.13485\n",
            "Epoch 37/150\n",
            "80/80 [==============================] - 0s 3ms/step - loss: 0.1637 - accuracy: 0.9388 - val_loss: 0.1894 - val_accuracy: 0.9353\n",
            "\n",
            "Epoch 00037: val_loss did not improve from 0.13485\n",
            "Epoch 38/150\n",
            "80/80 [==============================] - 0s 3ms/step - loss: 0.1628 - accuracy: 0.9404 - val_loss: 0.1287 - val_accuracy: 0.9495\n",
            "\n",
            "Epoch 00038: val_loss improved from 0.13485 to 0.12865, saving model to /content/gender_coice.hdf5\n",
            "Epoch 39/150\n",
            "80/80 [==============================] - 0s 3ms/step - loss: 0.1501 - accuracy: 0.9451 - val_loss: 0.1129 - val_accuracy: 0.9543\n",
            "\n",
            "Epoch 00039: val_loss improved from 0.12865 to 0.11293, saving model to /content/gender_coice.hdf5\n",
            "Epoch 40/150\n",
            "80/80 [==============================] - 0s 3ms/step - loss: 0.1611 - accuracy: 0.9404 - val_loss: 0.1457 - val_accuracy: 0.9479\n",
            "\n",
            "Epoch 00040: val_loss did not improve from 0.11293\n",
            "Epoch 41/150\n",
            "80/80 [==============================] - 0s 3ms/step - loss: 0.1602 - accuracy: 0.9420 - val_loss: 0.1226 - val_accuracy: 0.9464\n",
            "\n",
            "Epoch 00041: val_loss did not improve from 0.11293\n",
            "Epoch 42/150\n",
            "80/80 [==============================] - 0s 4ms/step - loss: 0.1495 - accuracy: 0.9428 - val_loss: 0.1276 - val_accuracy: 0.9527\n",
            "\n",
            "Epoch 00042: val_loss did not improve from 0.11293\n",
            "Epoch 43/150\n",
            "80/80 [==============================] - 0s 3ms/step - loss: 0.1546 - accuracy: 0.9420 - val_loss: 0.1240 - val_accuracy: 0.9558\n",
            "\n",
            "Epoch 00043: val_loss did not improve from 0.11293\n",
            "Epoch 44/150\n",
            "80/80 [==============================] - 0s 4ms/step - loss: 0.1437 - accuracy: 0.9459 - val_loss: 0.1175 - val_accuracy: 0.9543\n",
            "\n",
            "Epoch 00044: val_loss did not improve from 0.11293\n",
            "Epoch 45/150\n",
            "80/80 [==============================] - 0s 4ms/step - loss: 0.1403 - accuracy: 0.9471 - val_loss: 0.1066 - val_accuracy: 0.9574\n",
            "\n",
            "Epoch 00045: val_loss improved from 0.11293 to 0.10663, saving model to /content/gender_coice.hdf5\n",
            "Epoch 46/150\n",
            "80/80 [==============================] - 0s 4ms/step - loss: 0.1464 - accuracy: 0.9440 - val_loss: 0.1907 - val_accuracy: 0.9243\n",
            "\n",
            "Epoch 00046: val_loss did not improve from 0.10663\n",
            "Epoch 47/150\n",
            "80/80 [==============================] - 0s 3ms/step - loss: 0.1684 - accuracy: 0.9380 - val_loss: 0.1090 - val_accuracy: 0.9574\n",
            "\n",
            "Epoch 00047: val_loss did not improve from 0.10663\n",
            "Epoch 48/150\n",
            "80/80 [==============================] - 0s 4ms/step - loss: 0.1466 - accuracy: 0.9440 - val_loss: 0.1395 - val_accuracy: 0.9527\n",
            "\n",
            "Epoch 00048: val_loss did not improve from 0.10663\n",
            "Epoch 49/150\n",
            "80/80 [==============================] - 0s 4ms/step - loss: 0.1333 - accuracy: 0.9471 - val_loss: 0.1088 - val_accuracy: 0.9574\n",
            "\n",
            "Epoch 00049: val_loss did not improve from 0.10663\n",
            "Epoch 50/150\n",
            "80/80 [==============================] - 0s 3ms/step - loss: 0.1431 - accuracy: 0.9451 - val_loss: 0.1021 - val_accuracy: 0.9606\n",
            "\n",
            "Epoch 00050: val_loss improved from 0.10663 to 0.10212, saving model to /content/gender_coice.hdf5\n",
            "Epoch 51/150\n",
            "80/80 [==============================] - 0s 3ms/step - loss: 0.1276 - accuracy: 0.9586 - val_loss: 0.1113 - val_accuracy: 0.9527\n",
            "\n",
            "Epoch 00051: val_loss did not improve from 0.10212\n",
            "Epoch 52/150\n",
            "80/80 [==============================] - 0s 3ms/step - loss: 0.1384 - accuracy: 0.9511 - val_loss: 0.1020 - val_accuracy: 0.9621\n",
            "\n",
            "Epoch 00052: val_loss improved from 0.10212 to 0.10201, saving model to /content/gender_coice.hdf5\n",
            "Epoch 53/150\n",
            "80/80 [==============================] - 0s 3ms/step - loss: 0.1503 - accuracy: 0.9420 - val_loss: 0.1304 - val_accuracy: 0.9527\n",
            "\n",
            "Epoch 00053: val_loss did not improve from 0.10201\n",
            "Epoch 54/150\n",
            "80/80 [==============================] - 0s 3ms/step - loss: 0.1413 - accuracy: 0.9503 - val_loss: 0.1056 - val_accuracy: 0.9621\n",
            "\n",
            "Epoch 00054: val_loss did not improve from 0.10201\n",
            "Epoch 55/150\n",
            "80/80 [==============================] - 0s 3ms/step - loss: 0.1390 - accuracy: 0.9499 - val_loss: 0.1208 - val_accuracy: 0.9527\n",
            "\n",
            "Epoch 00055: val_loss did not improve from 0.10201\n",
            "Epoch 56/150\n",
            "80/80 [==============================] - 0s 4ms/step - loss: 0.1360 - accuracy: 0.9511 - val_loss: 0.1163 - val_accuracy: 0.9590\n",
            "\n",
            "Epoch 00056: val_loss did not improve from 0.10201\n",
            "Epoch 57/150\n",
            "80/80 [==============================] - 0s 4ms/step - loss: 0.1527 - accuracy: 0.9408 - val_loss: 0.0979 - val_accuracy: 0.9621\n",
            "\n",
            "Epoch 00057: val_loss improved from 0.10201 to 0.09787, saving model to /content/gender_coice.hdf5\n",
            "Epoch 58/150\n",
            "80/80 [==============================] - 0s 3ms/step - loss: 0.1334 - accuracy: 0.9522 - val_loss: 0.0996 - val_accuracy: 0.9606\n",
            "\n",
            "Epoch 00058: val_loss did not improve from 0.09787\n",
            "Epoch 59/150\n",
            "80/80 [==============================] - 0s 4ms/step - loss: 0.1472 - accuracy: 0.9491 - val_loss: 0.1059 - val_accuracy: 0.9621\n",
            "\n",
            "Epoch 00059: val_loss did not improve from 0.09787\n",
            "Epoch 60/150\n",
            "80/80 [==============================] - 0s 3ms/step - loss: 0.1319 - accuracy: 0.9479 - val_loss: 0.1062 - val_accuracy: 0.9606\n",
            "\n",
            "Epoch 00060: val_loss did not improve from 0.09787\n",
            "Epoch 61/150\n",
            "80/80 [==============================] - 0s 4ms/step - loss: 0.1407 - accuracy: 0.9444 - val_loss: 0.1119 - val_accuracy: 0.9606\n",
            "\n",
            "Epoch 00061: val_loss did not improve from 0.09787\n",
            "Epoch 62/150\n",
            "80/80 [==============================] - 0s 4ms/step - loss: 0.1444 - accuracy: 0.9475 - val_loss: 0.1108 - val_accuracy: 0.9621\n",
            "\n",
            "Epoch 00062: val_loss did not improve from 0.09787\n",
            "Epoch 63/150\n",
            "80/80 [==============================] - 0s 3ms/step - loss: 0.1219 - accuracy: 0.9562 - val_loss: 0.1249 - val_accuracy: 0.9511\n",
            "\n",
            "Epoch 00063: val_loss did not improve from 0.09787\n",
            "Epoch 64/150\n",
            "80/80 [==============================] - 0s 3ms/step - loss: 0.1233 - accuracy: 0.9562 - val_loss: 0.1009 - val_accuracy: 0.9637\n",
            "\n",
            "Epoch 00064: val_loss did not improve from 0.09787\n",
            "Epoch 65/150\n",
            "80/80 [==============================] - 0s 3ms/step - loss: 0.1305 - accuracy: 0.9515 - val_loss: 0.1016 - val_accuracy: 0.9653\n",
            "\n",
            "Epoch 00065: val_loss did not improve from 0.09787\n",
            "Epoch 66/150\n",
            "80/80 [==============================] - 0s 4ms/step - loss: 0.1240 - accuracy: 0.9550 - val_loss: 0.1197 - val_accuracy: 0.9574\n",
            "\n",
            "Epoch 00066: val_loss did not improve from 0.09787\n",
            "Epoch 67/150\n",
            "80/80 [==============================] - 0s 3ms/step - loss: 0.1321 - accuracy: 0.9499 - val_loss: 0.0975 - val_accuracy: 0.9637\n",
            "\n",
            "Epoch 00067: val_loss improved from 0.09787 to 0.09753, saving model to /content/gender_coice.hdf5\n",
            "Epoch 68/150\n",
            "80/80 [==============================] - 0s 3ms/step - loss: 0.1155 - accuracy: 0.9597 - val_loss: 0.1380 - val_accuracy: 0.9574\n",
            "\n",
            "Epoch 00068: val_loss did not improve from 0.09753\n",
            "Epoch 69/150\n",
            "80/80 [==============================] - 0s 3ms/step - loss: 0.1322 - accuracy: 0.9538 - val_loss: 0.1091 - val_accuracy: 0.9558\n",
            "\n",
            "Epoch 00069: val_loss did not improve from 0.09753\n",
            "Epoch 70/150\n",
            "80/80 [==============================] - 0s 3ms/step - loss: 0.1221 - accuracy: 0.9582 - val_loss: 0.1265 - val_accuracy: 0.9527\n",
            "\n",
            "Epoch 00070: val_loss did not improve from 0.09753\n",
            "Epoch 71/150\n",
            "80/80 [==============================] - 0s 4ms/step - loss: 0.1196 - accuracy: 0.9530 - val_loss: 0.1010 - val_accuracy: 0.9574\n",
            "\n",
            "Epoch 00071: val_loss did not improve from 0.09753\n",
            "Epoch 72/150\n",
            "80/80 [==============================] - 0s 3ms/step - loss: 0.1183 - accuracy: 0.9586 - val_loss: 0.0915 - val_accuracy: 0.9700\n",
            "\n",
            "Epoch 00072: val_loss improved from 0.09753 to 0.09149, saving model to /content/gender_coice.hdf5\n",
            "Epoch 73/150\n",
            "80/80 [==============================] - 0s 4ms/step - loss: 0.1244 - accuracy: 0.9511 - val_loss: 0.1023 - val_accuracy: 0.9574\n",
            "\n",
            "Epoch 00073: val_loss did not improve from 0.09149\n",
            "Epoch 74/150\n",
            "80/80 [==============================] - 0s 4ms/step - loss: 0.1258 - accuracy: 0.9546 - val_loss: 0.1207 - val_accuracy: 0.9558\n",
            "\n",
            "Epoch 00074: val_loss did not improve from 0.09149\n",
            "Epoch 75/150\n",
            "80/80 [==============================] - 0s 4ms/step - loss: 0.1117 - accuracy: 0.9609 - val_loss: 0.1010 - val_accuracy: 0.9606\n",
            "\n",
            "Epoch 00075: val_loss did not improve from 0.09149\n",
            "Epoch 76/150\n",
            "80/80 [==============================] - 0s 4ms/step - loss: 0.1406 - accuracy: 0.9467 - val_loss: 0.1237 - val_accuracy: 0.9432\n",
            "\n",
            "Epoch 00076: val_loss did not improve from 0.09149\n",
            "Epoch 77/150\n",
            "80/80 [==============================] - 0s 3ms/step - loss: 0.1214 - accuracy: 0.9515 - val_loss: 0.0936 - val_accuracy: 0.9621\n",
            "\n",
            "Epoch 00077: val_loss did not improve from 0.09149\n",
            "Epoch 78/150\n",
            "80/80 [==============================] - 0s 4ms/step - loss: 0.1199 - accuracy: 0.9530 - val_loss: 0.1024 - val_accuracy: 0.9653\n",
            "\n",
            "Epoch 00078: val_loss did not improve from 0.09149\n",
            "Epoch 79/150\n",
            "80/80 [==============================] - 0s 4ms/step - loss: 0.1331 - accuracy: 0.9487 - val_loss: 0.0963 - val_accuracy: 0.9669\n",
            "\n",
            "Epoch 00079: val_loss did not improve from 0.09149\n",
            "Epoch 80/150\n",
            "80/80 [==============================] - 0s 4ms/step - loss: 0.1236 - accuracy: 0.9526 - val_loss: 0.0987 - val_accuracy: 0.9574\n",
            "\n",
            "Epoch 00080: val_loss did not improve from 0.09149\n",
            "Epoch 81/150\n",
            "80/80 [==============================] - 0s 3ms/step - loss: 0.1096 - accuracy: 0.9570 - val_loss: 0.1238 - val_accuracy: 0.9432\n",
            "\n",
            "Epoch 00081: val_loss did not improve from 0.09149\n",
            "Epoch 82/150\n",
            "80/80 [==============================] - 0s 4ms/step - loss: 0.1364 - accuracy: 0.9491 - val_loss: 0.1099 - val_accuracy: 0.9543\n",
            "\n",
            "Epoch 00082: val_loss did not improve from 0.09149\n",
            "Epoch 83/150\n",
            "80/80 [==============================] - 0s 3ms/step - loss: 0.1273 - accuracy: 0.9554 - val_loss: 0.0954 - val_accuracy: 0.9669\n",
            "\n",
            "Epoch 00083: val_loss did not improve from 0.09149\n",
            "Epoch 84/150\n",
            "80/80 [==============================] - 0s 4ms/step - loss: 0.1104 - accuracy: 0.9586 - val_loss: 0.1191 - val_accuracy: 0.9511\n",
            "\n",
            "Epoch 00084: val_loss did not improve from 0.09149\n",
            "Epoch 85/150\n",
            "80/80 [==============================] - 0s 3ms/step - loss: 0.1162 - accuracy: 0.9562 - val_loss: 0.1027 - val_accuracy: 0.9653\n",
            "\n",
            "Epoch 00085: val_loss did not improve from 0.09149\n",
            "Epoch 86/150\n",
            "80/80 [==============================] - 0s 4ms/step - loss: 0.1117 - accuracy: 0.9574 - val_loss: 0.1536 - val_accuracy: 0.9464\n",
            "\n",
            "Epoch 00086: val_loss did not improve from 0.09149\n",
            "Epoch 87/150\n",
            "80/80 [==============================] - 0s 3ms/step - loss: 0.1179 - accuracy: 0.9558 - val_loss: 0.1106 - val_accuracy: 0.9590\n",
            "\n",
            "Epoch 00087: val_loss did not improve from 0.09149\n",
            "Epoch 88/150\n",
            "80/80 [==============================] - 0s 3ms/step - loss: 0.1052 - accuracy: 0.9617 - val_loss: 0.0883 - val_accuracy: 0.9637\n",
            "\n",
            "Epoch 00088: val_loss improved from 0.09149 to 0.08826, saving model to /content/gender_coice.hdf5\n",
            "Epoch 89/150\n",
            "80/80 [==============================] - 0s 4ms/step - loss: 0.1176 - accuracy: 0.9538 - val_loss: 0.0972 - val_accuracy: 0.9606\n",
            "\n",
            "Epoch 00089: val_loss did not improve from 0.08826\n",
            "Epoch 90/150\n",
            "80/80 [==============================] - 0s 4ms/step - loss: 0.1159 - accuracy: 0.9586 - val_loss: 0.1125 - val_accuracy: 0.9606\n",
            "\n",
            "Epoch 00090: val_loss did not improve from 0.08826\n",
            "Epoch 91/150\n",
            "80/80 [==============================] - 0s 3ms/step - loss: 0.1091 - accuracy: 0.9590 - val_loss: 0.0920 - val_accuracy: 0.9669\n",
            "\n",
            "Epoch 00091: val_loss did not improve from 0.08826\n",
            "Epoch 92/150\n",
            "80/80 [==============================] - 0s 4ms/step - loss: 0.1091 - accuracy: 0.9586 - val_loss: 0.1342 - val_accuracy: 0.9543\n",
            "\n",
            "Epoch 00092: val_loss did not improve from 0.08826\n",
            "Epoch 93/150\n",
            "80/80 [==============================] - 0s 4ms/step - loss: 0.1102 - accuracy: 0.9617 - val_loss: 0.1124 - val_accuracy: 0.9621\n",
            "\n",
            "Epoch 00093: val_loss did not improve from 0.08826\n",
            "Epoch 94/150\n",
            "80/80 [==============================] - 0s 4ms/step - loss: 0.1150 - accuracy: 0.9578 - val_loss: 0.1386 - val_accuracy: 0.9479\n",
            "\n",
            "Epoch 00094: val_loss did not improve from 0.08826\n",
            "Epoch 95/150\n",
            "80/80 [==============================] - 0s 4ms/step - loss: 0.1048 - accuracy: 0.9601 - val_loss: 0.1032 - val_accuracy: 0.9590\n",
            "\n",
            "Epoch 00095: val_loss did not improve from 0.08826\n",
            "Epoch 96/150\n",
            "80/80 [==============================] - 0s 4ms/step - loss: 0.1133 - accuracy: 0.9590 - val_loss: 0.0890 - val_accuracy: 0.9653\n",
            "\n",
            "Epoch 00096: val_loss did not improve from 0.08826\n",
            "Epoch 97/150\n",
            "80/80 [==============================] - 0s 4ms/step - loss: 0.1202 - accuracy: 0.9499 - val_loss: 0.0942 - val_accuracy: 0.9590\n",
            "\n",
            "Epoch 00097: val_loss did not improve from 0.08826\n",
            "Epoch 98/150\n",
            "80/80 [==============================] - 0s 3ms/step - loss: 0.1259 - accuracy: 0.9530 - val_loss: 0.1262 - val_accuracy: 0.9543\n",
            "\n",
            "Epoch 00098: val_loss did not improve from 0.08826\n",
            "Epoch 99/150\n",
            "80/80 [==============================] - 0s 4ms/step - loss: 0.1262 - accuracy: 0.9503 - val_loss: 0.1033 - val_accuracy: 0.9590\n",
            "\n",
            "Epoch 00099: val_loss did not improve from 0.08826\n",
            "Epoch 100/150\n",
            "80/80 [==============================] - 0s 4ms/step - loss: 0.1039 - accuracy: 0.9597 - val_loss: 0.1029 - val_accuracy: 0.9590\n",
            "\n",
            "Epoch 00100: val_loss did not improve from 0.08826\n",
            "Epoch 101/150\n",
            "80/80 [==============================] - 0s 3ms/step - loss: 0.1122 - accuracy: 0.9554 - val_loss: 0.0958 - val_accuracy: 0.9653\n",
            "\n",
            "Epoch 00101: val_loss did not improve from 0.08826\n",
            "Epoch 102/150\n",
            "80/80 [==============================] - 0s 4ms/step - loss: 0.1067 - accuracy: 0.9617 - val_loss: 0.0968 - val_accuracy: 0.9669\n",
            "\n",
            "Epoch 00102: val_loss did not improve from 0.08826\n",
            "Epoch 103/150\n",
            "80/80 [==============================] - 0s 4ms/step - loss: 0.1169 - accuracy: 0.9562 - val_loss: 0.1175 - val_accuracy: 0.9558\n",
            "\n",
            "Epoch 00103: val_loss did not improve from 0.08826\n",
            "Epoch 104/150\n",
            "80/80 [==============================] - 0s 4ms/step - loss: 0.1086 - accuracy: 0.9590 - val_loss: 0.0905 - val_accuracy: 0.9669\n",
            "\n",
            "Epoch 00104: val_loss did not improve from 0.08826\n",
            "Epoch 105/150\n",
            "80/80 [==============================] - 0s 4ms/step - loss: 0.1119 - accuracy: 0.9570 - val_loss: 0.1106 - val_accuracy: 0.9606\n",
            "\n",
            "Epoch 00105: val_loss did not improve from 0.08826\n",
            "Epoch 106/150\n",
            "80/80 [==============================] - 0s 4ms/step - loss: 0.1119 - accuracy: 0.9574 - val_loss: 0.1798 - val_accuracy: 0.9464\n",
            "\n",
            "Epoch 00106: val_loss did not improve from 0.08826\n",
            "Epoch 107/150\n",
            "80/80 [==============================] - 0s 4ms/step - loss: 0.1247 - accuracy: 0.9554 - val_loss: 0.1020 - val_accuracy: 0.9653\n",
            "\n",
            "Epoch 00107: val_loss did not improve from 0.08826\n",
            "Epoch 108/150\n",
            "80/80 [==============================] - 0s 4ms/step - loss: 0.1298 - accuracy: 0.9483 - val_loss: 0.0922 - val_accuracy: 0.9606\n",
            "\n",
            "Epoch 00108: val_loss did not improve from 0.08826\n",
            "Epoch 109/150\n",
            "80/80 [==============================] - 0s 4ms/step - loss: 0.1110 - accuracy: 0.9625 - val_loss: 0.1166 - val_accuracy: 0.9606\n",
            "\n",
            "Epoch 00109: val_loss did not improve from 0.08826\n",
            "Epoch 110/150\n",
            "80/80 [==============================] - 0s 4ms/step - loss: 0.0990 - accuracy: 0.9665 - val_loss: 0.0994 - val_accuracy: 0.9590\n",
            "\n",
            "Epoch 00110: val_loss did not improve from 0.08826\n",
            "Epoch 111/150\n",
            "80/80 [==============================] - 0s 3ms/step - loss: 0.1193 - accuracy: 0.9566 - val_loss: 0.0919 - val_accuracy: 0.9653\n",
            "\n",
            "Epoch 00111: val_loss did not improve from 0.08826\n",
            "Epoch 112/150\n",
            "80/80 [==============================] - 0s 3ms/step - loss: 0.1152 - accuracy: 0.9574 - val_loss: 0.1029 - val_accuracy: 0.9637\n",
            "\n",
            "Epoch 00112: val_loss did not improve from 0.08826\n",
            "Epoch 113/150\n",
            "80/80 [==============================] - 0s 3ms/step - loss: 0.1091 - accuracy: 0.9605 - val_loss: 0.0933 - val_accuracy: 0.9558\n",
            "\n",
            "Epoch 00113: val_loss did not improve from 0.08826\n",
            "Epoch 114/150\n",
            "80/80 [==============================] - 0s 3ms/step - loss: 0.1098 - accuracy: 0.9609 - val_loss: 0.1091 - val_accuracy: 0.9590\n",
            "\n",
            "Epoch 00114: val_loss did not improve from 0.08826\n",
            "Epoch 115/150\n",
            "80/80 [==============================] - 0s 4ms/step - loss: 0.1060 - accuracy: 0.9597 - val_loss: 0.1176 - val_accuracy: 0.9606\n",
            "\n",
            "Epoch 00115: val_loss did not improve from 0.08826\n",
            "Epoch 116/150\n",
            "80/80 [==============================] - 0s 4ms/step - loss: 0.1093 - accuracy: 0.9562 - val_loss: 0.1142 - val_accuracy: 0.9590\n",
            "\n",
            "Epoch 00116: val_loss did not improve from 0.08826\n",
            "Epoch 117/150\n",
            "80/80 [==============================] - 0s 4ms/step - loss: 0.1039 - accuracy: 0.9601 - val_loss: 0.1222 - val_accuracy: 0.9606\n",
            "\n",
            "Epoch 00117: val_loss did not improve from 0.08826\n",
            "Epoch 118/150\n",
            "80/80 [==============================] - 0s 3ms/step - loss: 0.1184 - accuracy: 0.9578 - val_loss: 0.1102 - val_accuracy: 0.9574\n",
            "\n",
            "Epoch 00118: val_loss did not improve from 0.08826\n",
            "Epoch 119/150\n",
            "80/80 [==============================] - 0s 3ms/step - loss: 0.1062 - accuracy: 0.9605 - val_loss: 0.0863 - val_accuracy: 0.9637\n",
            "\n",
            "Epoch 00119: val_loss improved from 0.08826 to 0.08635, saving model to /content/gender_coice.hdf5\n",
            "Epoch 120/150\n",
            "80/80 [==============================] - 0s 4ms/step - loss: 0.1210 - accuracy: 0.9578 - val_loss: 0.1142 - val_accuracy: 0.9590\n",
            "\n",
            "Epoch 00120: val_loss did not improve from 0.08635\n",
            "Epoch 121/150\n",
            "80/80 [==============================] - 0s 3ms/step - loss: 0.1043 - accuracy: 0.9605 - val_loss: 0.0946 - val_accuracy: 0.9669\n",
            "\n",
            "Epoch 00121: val_loss did not improve from 0.08635\n",
            "Epoch 122/150\n",
            "80/80 [==============================] - 0s 4ms/step - loss: 0.0949 - accuracy: 0.9617 - val_loss: 0.0913 - val_accuracy: 0.9685\n",
            "\n",
            "Epoch 00122: val_loss did not improve from 0.08635\n",
            "Epoch 123/150\n",
            "80/80 [==============================] - 0s 4ms/step - loss: 0.1011 - accuracy: 0.9605 - val_loss: 0.0941 - val_accuracy: 0.9653\n",
            "\n",
            "Epoch 00123: val_loss did not improve from 0.08635\n",
            "Epoch 124/150\n",
            "80/80 [==============================] - 0s 4ms/step - loss: 0.1111 - accuracy: 0.9594 - val_loss: 0.1801 - val_accuracy: 0.9448\n",
            "\n",
            "Epoch 00124: val_loss did not improve from 0.08635\n",
            "Epoch 125/150\n",
            "80/80 [==============================] - 0s 3ms/step - loss: 0.1109 - accuracy: 0.9601 - val_loss: 0.0906 - val_accuracy: 0.9669\n",
            "\n",
            "Epoch 00125: val_loss did not improve from 0.08635\n",
            "Epoch 126/150\n",
            "80/80 [==============================] - 0s 4ms/step - loss: 0.1121 - accuracy: 0.9586 - val_loss: 0.0866 - val_accuracy: 0.9685\n",
            "\n",
            "Epoch 00126: val_loss did not improve from 0.08635\n",
            "Epoch 127/150\n",
            "80/80 [==============================] - 0s 4ms/step - loss: 0.1059 - accuracy: 0.9609 - val_loss: 0.0944 - val_accuracy: 0.9621\n",
            "\n",
            "Epoch 00127: val_loss did not improve from 0.08635\n",
            "Epoch 128/150\n",
            "80/80 [==============================] - 0s 4ms/step - loss: 0.1011 - accuracy: 0.9629 - val_loss: 0.1421 - val_accuracy: 0.9511\n",
            "\n",
            "Epoch 00128: val_loss did not improve from 0.08635\n",
            "Epoch 129/150\n",
            "80/80 [==============================] - 0s 4ms/step - loss: 0.0975 - accuracy: 0.9657 - val_loss: 0.0925 - val_accuracy: 0.9637\n",
            "\n",
            "Epoch 00129: val_loss did not improve from 0.08635\n",
            "Epoch 130/150\n",
            "80/80 [==============================] - 0s 4ms/step - loss: 0.1043 - accuracy: 0.9621 - val_loss: 0.0957 - val_accuracy: 0.9669\n",
            "\n",
            "Epoch 00130: val_loss did not improve from 0.08635\n",
            "Epoch 131/150\n",
            "80/80 [==============================] - 0s 3ms/step - loss: 0.1090 - accuracy: 0.9613 - val_loss: 0.0891 - val_accuracy: 0.9685\n",
            "\n",
            "Epoch 00131: val_loss did not improve from 0.08635\n",
            "Epoch 132/150\n",
            "80/80 [==============================] - 0s 4ms/step - loss: 0.1030 - accuracy: 0.9629 - val_loss: 0.0910 - val_accuracy: 0.9700\n",
            "\n",
            "Epoch 00132: val_loss did not improve from 0.08635\n",
            "Epoch 133/150\n",
            "80/80 [==============================] - 0s 3ms/step - loss: 0.1236 - accuracy: 0.9519 - val_loss: 0.0897 - val_accuracy: 0.9637\n",
            "\n",
            "Epoch 00133: val_loss did not improve from 0.08635\n",
            "Epoch 134/150\n",
            "80/80 [==============================] - 0s 4ms/step - loss: 0.1045 - accuracy: 0.9621 - val_loss: 0.1123 - val_accuracy: 0.9558\n",
            "\n",
            "Epoch 00134: val_loss did not improve from 0.08635\n",
            "Epoch 135/150\n",
            "80/80 [==============================] - 0s 4ms/step - loss: 0.0954 - accuracy: 0.9629 - val_loss: 0.1147 - val_accuracy: 0.9621\n",
            "\n",
            "Epoch 00135: val_loss did not improve from 0.08635\n",
            "Epoch 136/150\n",
            "80/80 [==============================] - 0s 4ms/step - loss: 0.1138 - accuracy: 0.9562 - val_loss: 0.1101 - val_accuracy: 0.9574\n",
            "\n",
            "Epoch 00136: val_loss did not improve from 0.08635\n",
            "Epoch 137/150\n",
            "80/80 [==============================] - 0s 4ms/step - loss: 0.0953 - accuracy: 0.9653 - val_loss: 0.0873 - val_accuracy: 0.9653\n",
            "\n",
            "Epoch 00137: val_loss did not improve from 0.08635\n",
            "Epoch 138/150\n",
            "80/80 [==============================] - 0s 4ms/step - loss: 0.0980 - accuracy: 0.9661 - val_loss: 0.1024 - val_accuracy: 0.9637\n",
            "\n",
            "Epoch 00138: val_loss did not improve from 0.08635\n",
            "Epoch 139/150\n",
            "80/80 [==============================] - 0s 3ms/step - loss: 0.1000 - accuracy: 0.9594 - val_loss: 0.0845 - val_accuracy: 0.9669\n",
            "\n",
            "Epoch 00139: val_loss improved from 0.08635 to 0.08452, saving model to /content/gender_coice.hdf5\n",
            "Epoch 140/150\n",
            "80/80 [==============================] - 0s 4ms/step - loss: 0.0973 - accuracy: 0.9661 - val_loss: 0.0937 - val_accuracy: 0.9653\n",
            "\n",
            "Epoch 00140: val_loss did not improve from 0.08452\n",
            "Epoch 141/150\n",
            "80/80 [==============================] - 0s 4ms/step - loss: 0.0901 - accuracy: 0.9653 - val_loss: 0.1003 - val_accuracy: 0.9700\n",
            "\n",
            "Epoch 00141: val_loss did not improve from 0.08452\n",
            "Epoch 142/150\n",
            "80/80 [==============================] - 0s 4ms/step - loss: 0.1000 - accuracy: 0.9637 - val_loss: 0.0951 - val_accuracy: 0.9637\n",
            "\n",
            "Epoch 00142: val_loss did not improve from 0.08452\n",
            "Epoch 143/150\n",
            "80/80 [==============================] - 0s 4ms/step - loss: 0.0993 - accuracy: 0.9613 - val_loss: 0.1042 - val_accuracy: 0.9606\n",
            "\n",
            "Epoch 00143: val_loss did not improve from 0.08452\n",
            "Epoch 144/150\n",
            "80/80 [==============================] - 0s 4ms/step - loss: 0.1028 - accuracy: 0.9621 - val_loss: 0.0933 - val_accuracy: 0.9669\n",
            "\n",
            "Epoch 00144: val_loss did not improve from 0.08452\n",
            "Epoch 145/150\n",
            "80/80 [==============================] - 0s 4ms/step - loss: 0.1026 - accuracy: 0.9653 - val_loss: 0.1159 - val_accuracy: 0.9558\n",
            "\n",
            "Epoch 00145: val_loss did not improve from 0.08452\n",
            "Epoch 146/150\n",
            "80/80 [==============================] - 0s 4ms/step - loss: 0.1062 - accuracy: 0.9617 - val_loss: 0.0856 - val_accuracy: 0.9700\n",
            "\n",
            "Epoch 00146: val_loss did not improve from 0.08452\n",
            "Epoch 147/150\n",
            "80/80 [==============================] - 0s 4ms/step - loss: 0.0866 - accuracy: 0.9712 - val_loss: 0.1103 - val_accuracy: 0.9606\n",
            "\n",
            "Epoch 00147: val_loss did not improve from 0.08452\n",
            "Epoch 148/150\n",
            "80/80 [==============================] - 0s 4ms/step - loss: 0.1011 - accuracy: 0.9633 - val_loss: 0.1148 - val_accuracy: 0.9558\n",
            "\n",
            "Epoch 00148: val_loss did not improve from 0.08452\n",
            "Epoch 149/150\n",
            "80/80 [==============================] - 0s 4ms/step - loss: 0.1154 - accuracy: 0.9586 - val_loss: 0.1347 - val_accuracy: 0.9543\n",
            "\n",
            "Epoch 00149: val_loss did not improve from 0.08452\n",
            "Epoch 150/150\n",
            "80/80 [==============================] - 0s 4ms/step - loss: 0.0956 - accuracy: 0.9649 - val_loss: 0.0855 - val_accuracy: 0.9716\n",
            "\n",
            "Epoch 00150: val_loss did not improve from 0.08452\n"
          ],
          "name": "stdout"
        }
      ]
    },
    {
      "cell_type": "code",
      "metadata": {
        "colab": {
          "base_uri": "https://localhost:8080/",
          "height": 513
        },
        "id": "sw2jkQQAjEJA",
        "outputId": "7703c89d-70dc-48d3-9e27-badd8c89efec"
      },
      "source": [
        "plt.plot(history.history['loss'], label='train loss')\n",
        "plt.plot(history.history['val_loss'], label='val loss')\n",
        "plt.legend()\n",
        "plt.show()\n",
        "\n",
        "# accuracies\n",
        "plt.plot(history.history['accuracy'], label='train acc')\n",
        "plt.plot(history.history['val_accuracy'], label='val acc')\n",
        "plt.legend()\n",
        "plt.show()"
      ],
      "execution_count": 34,
      "outputs": [
        {
          "output_type": "display_data",
          "data": {
            "image/png": "[encoded data removed]",
            "text/plain": [
              "<Figure size 432x288 with 1 Axes>"
            ]
          },
          "metadata": {
            "tags": [],
            "needs_background": "light"
          }
        },
        {
          "output_type": "display_data",
          "data": {
            "image/png": "[encoded data removed]",
            "text/plain": [
              "<Figure size 432x288 with 1 Axes>"
            ]
          },
          "metadata": {
            "tags": [],
            "needs_background": "light"
          }
        }
      ]
    }
  ]
}